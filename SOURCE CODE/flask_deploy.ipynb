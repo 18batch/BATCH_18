{
 "cells": [
  {
   "cell_type": "code",
   "execution_count": null,
   "metadata": {},
   "outputs": [
    {
     "name": "stdout",
     "output_type": "stream",
     "text": [
      " * Serving Flask app \"__main__\" (lazy loading)\n",
      " * Environment: production\n",
      "   WARNING: This is a development server. Do not use it in a production deployment.\n",
      "   Use a production WSGI server instead.\n",
      " * Debug mode: off\n"
     ]
    },
    {
     "name": "stderr",
     "output_type": "stream",
     "text": [
      " * Running on http://localhost:7000/ (Press CTRL+C to quit)\n"
     ]
    }
   ],
   "source": [
    "import numpy as np\n",
    "from flask import Flask, request, jsonify, render_template\n",
    "import pickle\n",
    "import joblib\n",
    "import serial\n",
    "\n",
    "app = Flask(__name__)\n",
    "model = joblib.load('maternal.pkl')\n",
    "\n",
    "ser = serial.Serial()\n",
    "ser.port = 'COM7'\n",
    "ser.baudrate = 9600\n",
    "ser.bytesize = 8\n",
    "ser.parity = serial.PARITY_NONE\n",
    "ser.stopbits = serial.STOPBITS_ONE\n",
    "\n",
    "def serialget():\n",
    "    value=[]\n",
    "    print('serialget')\n",
    "    ser.open()\n",
    "    v=b'A'\n",
    "    ser.write(v)\n",
    "    print('data sent')\n",
    "    while True:\n",
    "        for line in ser.read():\n",
    "            if chr(line) != '$':\n",
    "                value.append(chr(line))\n",
    "            else:\n",
    "                print(\"end\")\n",
    "                ser.close()\n",
    "                return value\n",
    "\n",
    "@app.route('/request1')\n",
    "def request1():\n",
    "    str1=''\n",
    "    val=[]\n",
    "    va=serialget()\n",
    "    print(va)\n",
    "    for v in va:\n",
    "        #print('request for')\n",
    "        if(v=='*'):\n",
    "            continue\n",
    "        else:  \n",
    "            if(v!='#'): \n",
    "                str1+=v\n",
    "                #print(str1)\n",
    "            else:\n",
    "                print(str1)\n",
    "                val.append(float(str1))\n",
    "                str1=\"\"  \n",
    "    print(val)\n",
    "    return render_template('index.html',val1=val[0],val2=val[1])\n",
    "\n",
    "@app.route('/')\n",
    "def home():\n",
    "    return render_template('index.html')\n",
    "\n",
    "@app.route('/predict',methods=['POST'])\n",
    "def predict():\n",
    "    '''\n",
    "    For rendering results on HTML GUI\n",
    "    '''\n",
    "    int_features = [(x) for x in request.form.values()]\n",
    "    final_features = [np.array(int_features).astype(float)]\n",
    "    print(final_features)\n",
    "    prediction = model.predict(final_features)\n",
    "    print(prediction)\n",
    "    output = prediction[0]\n",
    "    if output == 0:\n",
    "        return render_template('index.html', prediction_text='High Risk')\n",
    "    elif output == 1:\n",
    "        return render_template('index.html', prediction_text='Low Risk')\n",
    "    elif output == 2:\n",
    "        return render_template('index.html', prediction_text='Mid Risk')\n",
    "    print(output)\n",
    "\n",
    "if __name__ == \"__main__\":\n",
    "    app.run(host=\"localhost\", port=7000)\n"
   ]
  },
  {
   "cell_type": "code",
   "execution_count": null,
   "metadata": {},
   "outputs": [],
   "source": []
  },
  {
   "cell_type": "code",
   "execution_count": null,
   "metadata": {},
   "outputs": [],
   "source": []
  },
  {
   "cell_type": "code",
   "execution_count": null,
   "metadata": {},
   "outputs": [],
   "source": []
  },
  {
   "cell_type": "code",
   "execution_count": null,
   "metadata": {},
   "outputs": [],
   "source": []
  }
 ],
 "metadata": {
  "kernelspec": {
   "display_name": "Python 3",
   "language": "python",
   "name": "python3"
  },
  "language_info": {
   "codemirror_mode": {
    "name": "ipython",
    "version": 3
   },
   "file_extension": ".py",
   "mimetype": "text/x-python",
   "name": "python",
   "nbconvert_exporter": "python",
   "pygments_lexer": "ipython3",
   "version": "3.7.4"
  },
  "vscode": {
   "interpreter": {
    "hash": "7db61b100a9183cd6217f413b6ed02ae9245ffa4da493b158621be487aaeeb0e"
   }
  }
 },
 "nbformat": 4,
 "nbformat_minor": 5
}
